{
 "cells": [
  {
   "cell_type": "code",
   "execution_count": 1,
   "metadata": {},
   "outputs": [],
   "source": [
    "import ccbid\n",
    "import numpy as np\n",
    "import pandas as pd\n",
    "import matplotlib as mpl\n",
    "import matplotlib.pyplot as plt"
   ]
  },
  {
   "cell_type": "code",
   "execution_count": 2,
   "metadata": {},
   "outputs": [],
   "source": [
    "crid, spid, spnm = ccbid.read.species_id('/home/cba/ccb-id/ccbid/support_files/species_id.csv')"
   ]
  },
  {
   "cell_type": "code",
   "execution_count": 21,
   "metadata": {},
   "outputs": [],
   "source": [
    "# set some plot parameters\n",
    "figsize=(6,3)\n",
    "dpi=300\n",
    "mpl.rcParams['axes.spines.right'] = False\n",
    "mpl.rcParams['axes.spines.top'] = False\n",
    "mpl.rcParams['axes.spines.bottom'] = False\n",
    "\n",
    "# hardcode some dumb shit\n",
    "ylabels = [\n",
    "    \"$\\it{Pinus\\ palustris}$\",\n",
    "    \"$\\it{Quercus\\ laevis}$\",\n",
    "    \"$\\it{Pinus\\ taeda}$\",\n",
    "    \"$\\it{Quercus\\ geminata}$\",\n",
    "    \"Other species\",\n",
    "    \"$\\it{Acer\\ rubrum}$\",\n",
    "    \"$\\it{Quercus\\ nigra}$\",\n",
    "    \"$\\it{Pinus\\ elliotii}$\",\n",
    "    \"$\\it{Liquidambar\\ stryaciflua}$\"\n",
    "]"
   ]
  },
  {
   "cell_type": "code",
   "execution_count": 22,
   "metadata": {},
   "outputs": [],
   "source": [
    "# plot the bastard\n",
    "plt.figure(figsize=figsize, dpi=dpi)\n",
    "pd.Series(spnm).value_counts().plot.barh(color=\"#424243\")\n",
    "\n",
    "# invert the plot order\n",
    "plt.gca().invert_yaxis()\n",
    "\n",
    "# add labels\n",
    "plt.xlabel(\"Labeled tree crowns\")\n",
    "pos, labels = plt.yticks()\n",
    "plt.yticks(pos, ylabels)\n",
    "plt.tight_layout()"
   ]
  },
  {
   "cell_type": "code",
   "execution_count": 23,
   "metadata": {},
   "outputs": [],
   "source": [
    "plt.savefig(\"figures/crown-counts.png\", dpi=300)\n",
    "plt.savefig(\"figures/crown-counts.pdf\")"
   ]
  }
 ],
 "metadata": {
  "kernelspec": {
   "display_name": "Python 3",
   "language": "python",
   "name": "python3"
  },
  "language_info": {
   "codemirror_mode": {
    "name": "ipython",
    "version": 3
   },
   "file_extension": ".py",
   "mimetype": "text/x-python",
   "name": "python",
   "nbconvert_exporter": "python",
   "pygments_lexer": "ipython3",
   "version": "3.7.8"
  }
 },
 "nbformat": 4,
 "nbformat_minor": 4
}
